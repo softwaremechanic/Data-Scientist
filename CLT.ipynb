{
 "cells": [
  {
   "cell_type": "code",
   "execution_count": null,
   "metadata": {
    "collapsed": true
   },
   "outputs": [],
   "source": [
    "Dist_sold_tickets = (2.4, 2.0)\n",
    "# Probability distribution of tickets sold for a game.\n",
    "# Mean = 2.4\n",
    "# S.D(sigma) = 2.0\n",
    "available_tickets = 250\n",
    "students = 100\n",
    "\n",
    "# Hidden variables/distributions that could affect outcome\n",
    "Preferred_tickets_dist = ?? # May be seats wise??\n",
    "Prob(specific_ticket_wanted_students) = ??\n",
    "# solve for:\n",
    "  Prob(all_students_get_preferred_ticket)\n",
    "Prior = \n"
   ]
  },
  {
   "cell_type": "code",
   "execution_count": null,
   "metadata": {
    "collapsed": true
   },
   "outputs": [],
   "source": [
    "from datascienceutils import dists\n",
    "# Since we don't know what type of distribution(normal/standard-normal/uniform etc..let's assume and sample from [dirichlet distribution]() )\n",
    "dists.dirichlet(scale_factor=2.0, mean=2.4, sample_size=250)"
   ]
  }
 ],
 "metadata": {
  "kernelspec": {
   "display_name": "Python 3",
   "language": "python",
   "name": "python3"
  },
  "language_info": {
   "codemirror_mode": {
    "name": "ipython",
    "version": 3
   },
   "file_extension": ".py",
   "mimetype": "text/x-python",
   "name": "python",
   "nbconvert_exporter": "python",
   "pygments_lexer": "ipython3",
   "version": "3.5.2"
  }
 },
 "nbformat": 4,
 "nbformat_minor": 2
}
